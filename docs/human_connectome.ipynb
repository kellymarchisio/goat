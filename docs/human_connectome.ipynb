{
 "cells": [
  {
   "cell_type": "markdown",
   "id": "quiet-settle",
   "metadata": {},
   "source": [
    "# Matching Human Connectome Data"
   ]
  },
  {
   "cell_type": "code",
   "execution_count": 1,
   "id": "fallen-mistake",
   "metadata": {},
   "outputs": [],
   "source": [
    "%load_ext autoreload\n",
    "%autoreload 1"
   ]
  },
  {
   "cell_type": "code",
   "execution_count": 2,
   "id": "divine-gazette",
   "metadata": {},
   "outputs": [],
   "source": [
    "from pkg.gmp import quadratic_assignment\n",
    "from pkg.gmp import quadratic_assignment_ot\n",
    "from pkg.plot import set_theme\n",
    "import numpy as np\n",
    "import pandas as pd"
   ]
  },
  {
   "cell_type": "code",
   "execution_count": 3,
   "id": "concerned-atmosphere",
   "metadata": {},
   "outputs": [],
   "source": [
    "# hide\n",
    "import sys\n",
    "sys.path\n",
    "sys.path.insert(0,'../../graspologic')"
   ]
  },
  {
   "cell_type": "markdown",
   "id": "developed-bathroom",
   "metadata": {},
   "source": [
    "# Recreate fig 5 from [Frigo et al.](https://www.biorxiv.org/content/10.1101/2020.12.16.422501v1.full.pdf)\n",
    "\n",
    "Data from https://osf.io/depux/files/\n",
    "\n",
    "For parcel (node) sizes [200, 400, 600, 800], I ran FAQ on the first 10 Gallardo connectomes. The connectome adjacency matrix was sampled, hollowed (diagonal entries set to zero), and matched against a random permutation of itself. As we see, FAQ recovers the true permutation everytime."
   ]
  },
  {
   "cell_type": "code",
   "execution_count": 9,
   "id": "black-newcastle",
   "metadata": {},
   "outputs": [],
   "source": [
    "from os import listdir\n",
    "from os.path import isfile, join\n",
    "from graspologic.match import GraphMatch\n",
    "\n",
    "path = '../data/hcp_data'\n",
    "files = [f for f in listdir(path) if isfile(join(path, f))]\n",
    "\n",
    "parcels = np.zeros(len(files))\n",
    "# gmot_ratio = np.zeros(len(files))\n",
    "gm_ratio = np.zeros(len(files))\n",
    "\n",
    "for i,f in enumerate(files):\n",
    "    A = pd.read_csv(f'{path}/{f}', delimiter=' ', header=None).values\n",
    "    n = A.shape[0]\n",
    "    \n",
    "    A[np.arange(n),np.arange(n)] = 0\n",
    "    parcels[i] = n\n",
    "    gm = GraphMatch(shuffle_input=True)\n",
    "    gm = gm.fit(A,A)\n",
    "    gm_ratio[i] = np.mean(gm.perm_inds_ == np.arange(n))\n",
    "    "
   ]
  },
  {
   "cell_type": "code",
   "execution_count": 10,
   "id": "facial-terrace",
   "metadata": {},
   "outputs": [
    {
     "data": {
      "text/plain": [
       "Text(0, 0.5, 'match ratio')"
      ]
     },
     "execution_count": 10,
     "metadata": {},
     "output_type": "execute_result"
    },
    {
     "data": {
      "image/png": "[encoded data removed]",
      "text/plain": [
       "<Figure size 1080x720 with 1 Axes>"
      ]
     },
     "metadata": {},
     "output_type": "display_data"
    }
   ],
   "source": [
    "import matplotlib.pyplot as plt\n",
    "import seaborn as sns\n",
    "\n",
    "sns.set_context('poster')\n",
    "sns.set(rc={'figure.figsize':(15,10)})\n",
    "plt.plot(parcels,gm_ratio, marker='o')\n",
    "plt.xlabel('# of parcels (nodes)')\n",
    "plt.ylabel('match ratio')\n",
    "\n"
   ]
  },
  {
   "cell_type": "code",
   "execution_count": 11,
   "id": "governmental-dress",
   "metadata": {},
   "outputs": [
    {
     "data": {
      "text/plain": [
       "array([1., 1., 1., 1., 1., 1., 1., 1., 1., 1., 1., 1., 1., 1., 1., 1., 1.,\n",
       "       1., 1., 1., 1., 1., 1., 1., 1., 1., 1., 1., 1., 1., 1., 1., 1., 1.,\n",
       "       1., 1., 1., 1., 1., 1.])"
      ]
     },
     "execution_count": 11,
     "metadata": {},
     "output_type": "execute_result"
    }
   ],
   "source": [
    "gm_ratio"
   ]
  },
  {
   "cell_type": "code",
   "execution_count": 13,
   "id": "restricted-raleigh",
   "metadata": {},
   "outputs": [
    {
     "name": "stdout",
     "output_type": "stream",
     "text": [
      "[[0.000e+00 1.370e+03 1.384e+03 ... 8.000e+00 1.200e+01 2.000e+00]\n",
      " [2.408e+03 0.000e+00 2.136e+03 ... 0.000e+00 4.900e+01 3.000e+00]\n",
      " [9.010e+02 1.261e+03 0.000e+00 ... 0.000e+00 3.000e+00 0.000e+00]\n",
      " ...\n",
      " [8.700e+01 3.000e+00 1.600e+01 ... 0.000e+00 7.000e+00 5.100e+01]\n",
      " [3.200e+01 1.980e+02 1.500e+01 ... 1.500e+01 0.000e+00 1.600e+01]\n",
      " [4.000e+00 4.000e+00 1.000e+00 ... 5.000e+01 1.100e+01 0.000e+00]]\n"
     ]
    }
   ],
   "source": [
    "print(A)"
   ]
  },
  {
   "cell_type": "code",
   "execution_count": null,
   "id": "behavioral-patrick",
   "metadata": {},
   "outputs": [],
   "source": []
  }
 ],
 "metadata": {
  "kernelspec": {
   "display_name": "Python 3",
   "language": "python",
   "name": "python3"
  },
  "language_info": {
   "codemirror_mode": {
    "name": "ipython",
    "version": 3
   },
   "file_extension": ".py",
   "mimetype": "text/x-python",
   "name": "python",
   "nbconvert_exporter": "python",
   "pygments_lexer": "ipython3",
   "version": "3.6.9"
  }
 },
 "nbformat": 4,
 "nbformat_minor": 5
}
