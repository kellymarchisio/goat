{
 "cells": [
  {
   "cell_type": "code",
   "execution_count": 1,
   "id": "administrative-planning",
   "metadata": {},
   "outputs": [],
   "source": [
    "%load_ext autoreload\n",
    "%autoreload 1"
   ]
  },
  {
   "cell_type": "code",
   "execution_count": 3,
   "id": "favorite-pontiac",
   "metadata": {},
   "outputs": [],
   "source": [
    "from pkg.gmp import quadratic_assignment\n",
    "from pkg.gmp import quadratic_assignment_ot\n",
    "\n",
    "import sys\n",
    "sys.path\n",
    "sys.path.insert(0,'../../graspologic')"
   ]
  },
  {
   "cell_type": "code",
   "execution_count": 4,
   "id": "handy-football",
   "metadata": {},
   "outputs": [],
   "source": [
    "import pandas as pd\n",
    "import numpy as np\n",
    "\n",
    "meta_path = \"../data/ALPN_crossmatching/meta.csv\"\n",
    "nblast_path = \"../data/ALPN_crossmatching/nblast_scores.csv\"\n",
    "\n",
    "meta = pd.read_csv(meta_path, index_col=0)\n",
    "meta = meta.set_index(\"id\")\n",
    "meta[\"label\"].fillna(\"unk\", inplace=True)\n",
    "nblast_scores = pd.read_csv(nblast_path, index_col=0, header=0)\n",
    "nblast_scores.columns = nblast_scores.columns.astype(int)"
   ]
  },
  {
   "cell_type": "code",
   "execution_count": 5,
   "id": "bored-engineer",
   "metadata": {},
   "outputs": [],
   "source": [
    "datasets = [\"FAFB(L)\", \"FAFB(R)\"]\n",
    "dataset1_meta = meta[meta[\"source\"] == datasets[0]]\n",
    "dataset2_meta = meta[meta[\"source\"] == datasets[1]]\n",
    "\n",
    "dataset1_ids = dataset1_meta.index\n",
    "dataset1_intra = nblast_scores.loc[dataset1_ids, dataset1_ids].values\n",
    "\n",
    "dataset2_ids = dataset2_meta.index\n",
    "dataset2_intra = nblast_scores.loc[dataset2_ids, dataset2_ids].values\n",
    "\n",
    "# TODO use these also via the linear term in GMP\n",
    "dataset1_to_dataset2 = nblast_scores.loc[dataset1_ids, dataset2_ids].values\n",
    "dataset2_to_dataset1 = nblast_scores.loc[dataset2_ids, dataset1_ids].values\n"
   ]
  },
  {
   "cell_type": "code",
   "execution_count": 6,
   "id": "standing-techno",
   "metadata": {},
   "outputs": [],
   "source": [
    "n = len(dataset2_intra)\n",
    "dataset1_intra_pad = np.zeros((n,n))\n",
    "dataset1_intra_pad[:len(dataset1_intra), :len(dataset1_intra)] = dataset1_intra"
   ]
  },
  {
   "cell_type": "code",
   "execution_count": 193,
   "id": "second-tokyo",
   "metadata": {},
   "outputs": [],
   "source": [
    "from sklearn.metrics import confusion_matrix\n",
    "import matplotlib.pyplot as plt\n",
    "import seaborn as sns\n",
    "\n",
    "def confusionplot(\n",
    "    labels1,\n",
    "    labels2,\n",
    "    ax=None,\n",
    "    figsize=(10, 10),\n",
    "    xlabel=\"\",\n",
    "    ylabel=\"\",\n",
    "    title=\"Confusion matrix\",\n",
    "    annot=True,\n",
    "    add_diag_proportion=True,\n",
    "    **kwargs,\n",
    "):\n",
    "    unique_labels = np.unique(list(labels1) + list(labels2))\n",
    "    conf_mat = confusion_matrix(labels1, labels2, labels=unique_labels, normalize=None)\n",
    "    conf_mat = pd.DataFrame(data=conf_mat, index=unique_labels, columns=unique_labels)\n",
    "\n",
    "    if ax is None:\n",
    "        _, ax = plt.subplots(1, 1, figsize=figsize)\n",
    "    sns.heatmap(\n",
    "        conf_mat,\n",
    "        ax=ax,\n",
    "        square=True,\n",
    "        cmap=\"RdBu_r\",\n",
    "        center=0,\n",
    "        cbar_kws=dict(shrink=0.6),\n",
    "        annot=annot,\n",
    "        fmt=\"d\",\n",
    "        mask=conf_mat == 0,\n",
    "        **kwargs,\n",
    "    )\n",
    "    ax.set(ylabel=ylabel, xlabel=xlabel)\n",
    "    if add_diag_proportion:\n",
    "        on_diag = np.trace(conf_mat.values) / np.sum(conf_mat.values)\n",
    "        title += f\" ({on_diag:0.2f} correct)\"\n",
    "    ax.set_title(title, fontsize=\"large\", pad=10)\n",
    "    return ax\n",
    "\n",
    "def gen_result(res):\n",
    "    print(f'objective function value: {res.fun}')\n",
    "    perm_inds = res.col_ind\n",
    "    dataset2_intra_matched = dataset2_intra[perm_inds][:, perm_inds][: len(dataset1_ids)]\n",
    "    dataset2_meta_matched = dataset2_meta.iloc[perm_inds][: len(dataset1_ids)]\n",
    "    \n",
    "    labels1 = dataset1_meta[\"label\"]\n",
    "    dataset1_vmax = labels1.value_counts()[1:].max()\n",
    "    labels2 = dataset2_meta_matched[\"label\"]\n",
    "    dataset2_vmax = labels2.value_counts()[1:].max()\n",
    "    vmax = max(dataset1_vmax, dataset2_vmax)\n",
    "    \n",
    "    unique_labels = np.unique(list(labels1) + list(labels2))\n",
    "    conf_mat = confusion_matrix(labels1, labels2, labels=unique_labels, normalize=None)\n",
    "    conf_mat = pd.DataFrame(data=conf_mat, index=unique_labels, columns=unique_labels)\n",
    "    conf_mat = conf_mat.iloc[:-5, :-5]  # hack to ignore anything \"unclear\"\n",
    "    on_diag = np.trace(conf_mat.values) / np.sum(conf_mat.values)\n",
    "    print(f\"Matching Accuracy ignoring unknowns {on_diag:.2f}\")\n",
    "    confusionplot(\n",
    "        labels1,\n",
    "        labels2,\n",
    "        ylabel=datasets[0],\n",
    "        xlabel=datasets[1],\n",
    "        title=\"Label confusion matrix\",\n",
    "        annot=False,\n",
    "        vmax=vmax,\n",
    "        xticklabels=False,\n",
    "        yticklabels=False,\n",
    "    )\n"
   ]
  },
  {
   "cell_type": "markdown",
   "id": "floral-monitor",
   "metadata": {},
   "source": [
    "# Recreate pedigo, GM no prior, barycenter init, matching just intra"
   ]
  },
  {
   "cell_type": "code",
   "execution_count": 142,
   "id": "together-transaction",
   "metadata": {},
   "outputs": [],
   "source": [
    "options = {'maximize':True, 'maxiter':100, 'shuffle_input':True,'tol':1e-5,}\n",
    "res = max([quadratic_assignment(dataset1_intra_pad, dataset2_intra, options=options)\n",
    "                   for k in range(50)], key=lambda x: x.fun)"
   ]
  },
  {
   "cell_type": "code",
   "execution_count": 144,
   "id": "sonic-veteran",
   "metadata": {},
   "outputs": [
    {
     "name": "stdout",
     "output_type": "stream",
     "text": [
      "objective function value: 6227.852163812509\n",
      "Matching Accuracy ignoring unknowns 0.88\n"
     ]
    },
    {
     "data": {
      "image/png": "[encoded data removed]",
      "text/plain": [
       "<Figure size 720x720 with 2 Axes>"
      ]
     },
     "metadata": {
      "needs_background": "light"
     },
     "output_type": "display_data"
    }
   ],
   "source": [
    "gen_result(res)"
   ]
  },
  {
   "cell_type": "code",
   "execution_count": null,
   "id": "friendly-novel",
   "metadata": {},
   "outputs": [],
   "source": []
  },
  {
   "cell_type": "markdown",
   "id": "automated-gallery",
   "metadata": {},
   "source": [
    "# GOAT no prior, barycenter init, matching just intra"
   ]
  },
  {
   "cell_type": "code",
   "execution_count": 147,
   "id": "italian-saying",
   "metadata": {},
   "outputs": [],
   "source": [
    "options = {'maximize':True, 'maxiter':100, 'shuffle_input':True,'tol':1e-6,'reg':300}\n",
    "res = max([quadratic_assignment_ot(dataset1_intra_pad, dataset2_intra, options=options)\n",
    "                   for k in range(50)], key=lambda x: x.fun)"
   ]
  },
  {
   "cell_type": "code",
   "execution_count": 148,
   "id": "sexual-joint",
   "metadata": {},
   "outputs": [
    {
     "name": "stdout",
     "output_type": "stream",
     "text": [
      "objective function value: 6198.336414141535\n",
      "Matching Accuracy ignoring unknowns 0.95\n"
     ]
    },
    {
     "data": {
      "image/png": "[encoded data removed]",
      "text/plain": [
       "<Figure size 720x720 with 2 Axes>"
      ]
     },
     "metadata": {
      "needs_background": "light"
     },
     "output_type": "display_data"
    }
   ],
   "source": [
    "gen_result(res)"
   ]
  },
  {
   "cell_type": "markdown",
   "id": "sudden-manhattan",
   "metadata": {},
   "source": [
    "# still no prior, using inter-hemisphere info to make a \"better\" init"
   ]
  },
  {
   "cell_type": "code",
   "execution_count": 173,
   "id": "quick-swift",
   "metadata": {},
   "outputs": [],
   "source": [
    "from ot import sinkhorn\n",
    "sim = np.zeros((n,n))\n",
    "sim[:len(dataset1_intra), :] = dataset1_to_dataset2 + dataset2_to_dataset1.T\n",
    "power = -1\n",
    "reg = 100\n",
    "lamb = reg / np.max(np.abs(sim))\n",
    "ones = np.ones(n)\n",
    "sim = sinkhorn(ones, ones, sim, power/lamb, stopInnerThr=1e-4,numItermax=1000)\n"
   ]
  },
  {
   "cell_type": "code",
   "execution_count": 186,
   "id": "liable-region",
   "metadata": {},
   "outputs": [],
   "source": [
    "from scipy.optimize import linear_sum_assignment\n",
    "s = np.zeros((n,n))\n",
    "s[:len(dataset1_intra), :] = dataset1_to_dataset2 + dataset2_to_dataset1.T\n",
    "row, col = linear_sum_assignment(s, maximize = True)"
   ]
  },
  {
   "cell_type": "code",
   "execution_count": 187,
   "id": "social-frost",
   "metadata": {},
   "outputs": [],
   "source": [
    "options = {'maximize':True, 'maxiter':100, 'shuffle_input':False,'tol':1e-6,'P0':sim}\n",
    "res = max([quadratic_assignment(dataset1_intra_pad, dataset2_intra, options=options)\n",
    "                   for k in range(50)], key=lambda x: x.fun)"
   ]
  },
  {
   "cell_type": "code",
   "execution_count": 188,
   "id": "pregnant-enhancement",
   "metadata": {},
   "outputs": [
    {
     "name": "stdout",
     "output_type": "stream",
     "text": [
      "objective function value: 6235.083554444008\n",
      "Matching Accuracy ignoring unknowns 0.97\n"
     ]
    },
    {
     "data": {
      "image/png": "[encoded data removed]",
      "text/plain": [
       "<Figure size 720x720 with 2 Axes>"
      ]
     },
     "metadata": {
      "needs_background": "light"
     },
     "output_type": "display_data"
    }
   ],
   "source": [
    "gen_result(res)"
   ]
  },
  {
   "cell_type": "code",
   "execution_count": 189,
   "id": "dated-prototype",
   "metadata": {},
   "outputs": [],
   "source": [
    "options = {'maximize':True, 'maxiter':100, 'shuffle_input':True,'tol':1e-6,'reg':300, 'P0':sim}\n",
    "res = max([quadratic_assignment_ot(dataset1_intra_pad, dataset2_intra, options=options)\n",
    "                   for k in range(50)], key=lambda x: x.fun)\n"
   ]
  },
  {
   "cell_type": "code",
   "execution_count": 190,
   "id": "arbitrary-scratch",
   "metadata": {},
   "outputs": [
    {
     "name": "stdout",
     "output_type": "stream",
     "text": [
      "objective function value: 6207.4674251068145\n",
      "Matching Accuracy ignoring unknowns 0.97\n"
     ]
    },
    {
     "data": {
      "image/png": "[encoded data removed]",
      "text/plain": [
       "<Figure size 720x720 with 2 Axes>"
      ]
     },
     "metadata": {
      "needs_background": "light"
     },
     "output_type": "display_data"
    }
   ],
   "source": [
    "gen_result(res)"
   ]
  },
  {
   "cell_type": "code",
   "execution_count": null,
   "id": "further-rebate",
   "metadata": {},
   "outputs": [],
   "source": []
  }
 ],
 "metadata": {
  "kernelspec": {
   "display_name": "Python 3",
   "language": "python",
   "name": "python3"
  },
  "language_info": {
   "codemirror_mode": {
    "name": "ipython",
    "version": 3
   },
   "file_extension": ".py",
   "mimetype": "text/x-python",
   "name": "python",
   "nbconvert_exporter": "python",
   "pygments_lexer": "ipython3",
   "version": "3.6.9"
  }
 },
 "nbformat": 4,
 "nbformat_minor": 5
}
