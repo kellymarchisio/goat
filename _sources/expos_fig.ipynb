{
 "cells": [
  {
   "cell_type": "markdown",
   "id": "hazardous-subsection",
   "metadata": {},
   "source": [
    "# Expository Demonstration"
   ]
  },
  {
   "cell_type": "markdown",
   "id": "fallen-nirvana",
   "metadata": {},
   "source": [
    "Consider the following matrix"
   ]
  },
  {
   "cell_type": "code",
   "execution_count": 86,
   "id": "stable-delta",
   "metadata": {
    "tags": [
     "hide-input"
    ]
   },
   "outputs": [
    {
     "name": "stdout",
     "output_type": "stream",
     "text": [
      "[[40 50 60 65]\n",
      " [30 38 46 48]\n",
      " [25 33 41 43]\n",
      " [39 45 51 59]]\n"
     ]
    }
   ],
   "source": [
    "import numpy as np\n",
    "A = np.array([[40, 50, 60, 65],\n",
    "    [30, 38, 46, 48],\n",
    "    [25, 33, 41, 43],\n",
    "    [39, 45, 51, 59]])\n",
    "print(A)"
   ]
  },
  {
   "cell_type": "markdown",
   "id": "introductory-salon",
   "metadata": {},
   "source": [
    "We wish to solve the linear sum assignment problem on `A`, namely minimize $trace(P^T A)$  $\\forall P \\in \\mathcal{P} $, where $\\mathcal{P} $ is the set of permutation matrices"
   ]
  },
  {
   "cell_type": "code",
   "execution_count": 87,
   "id": "early-invalid",
   "metadata": {
    "tags": [
     "hide-input"
    ]
   },
   "outputs": [
    {
     "name": "stdout",
     "output_type": "stream",
     "text": [
      "assignment:  [0 1 3 2]\n",
      "cost:  172\n",
      "permutation matrix: \n",
      "[[1. 0. 0. 0.]\n",
      " [0. 1. 0. 0.]\n",
      " [0. 0. 0. 1.]\n",
      " [0. 0. 1. 0.]]\n"
     ]
    }
   ],
   "source": [
    "from scipy.optimize import linear_sum_assignment\n",
    "row, col = linear_sum_assignment(A, maximize=False)\n",
    "P1 = np.eye(4)[col,:]\n",
    "print(\"assignment: \", col)\n",
    "print(\"cost: \", A[row,col].sum())\n",
    "print('permutation matrix: ')\n",
    "print(P1)"
   ]
  },
  {
   "cell_type": "markdown",
   "id": "prepared-belle",
   "metadata": {},
   "source": [
    "However, another optimal solution for A also exists: [0, 3, 1, 2]"
   ]
  },
  {
   "cell_type": "code",
   "execution_count": 88,
   "id": "harmful-thailand",
   "metadata": {
    "tags": [
     "hide-input"
    ]
   },
   "outputs": [
    {
     "name": "stdout",
     "output_type": "stream",
     "text": [
      "assignment:  [0, 3, 1, 2]\n",
      "cost:  172\n",
      "permutation matrix: \n",
      "[[1. 0. 0. 0.]\n",
      " [0. 0. 0. 1.]\n",
      " [0. 1. 0. 0.]\n",
      " [0. 0. 1. 0.]]\n"
     ]
    }
   ],
   "source": [
    "col = [0, 3, 1, 2]\n",
    "P2 = np.eye(4)[col,:]\n",
    "print(\"assignment: \", col)\n",
    "print(\"cost: \", A[row,col].sum())\n",
    "print('permutation matrix: ')\n",
    "print(P2)"
   ]
  },
  {
   "cell_type": "markdown",
   "id": "racial-heater",
   "metadata": {},
   "source": [
    "Trivially, the average of these two permutation matrices would yield the same objective value as each individually.\n",
    "$trace((\\frac{(P_1 + P_2)}{2})^T A) = \\frac{1}{2}trace((P_1 + P_2)^T A) = \\frac{1}{2}trace(P_1^T A + P_2^T A) = \\frac{1}{2}trace(P_1^T A) + \\frac{1}{2}trace(P_2^T A) = \\frac{1}{2} OOFV + \\frac{1}{2}OOFV = OOFV$\n",
    "\n",
    "Therefore, for instances where there are multiple optimal solutions, we relax the feasible region to the set of doubly stochastic matrices to get a better representation of the possible solutions: minimize $trace(P^T A)$  $\\forall P \\in \\mathcal{D} $, where $\\mathcal{D} $ is the set of doubly stochastic matrices.\n",
    "\n",
    "To do so, we utilize the lightspeed optimal transport method to get a doubly stochastic matrix that closely approximates this solution. Namely, we perform the Sinkhorn-Knopp algorithm on $\\exp{- \\lambda A}$."
   ]
  },
  {
   "cell_type": "code",
   "execution_count": 89,
   "id": "muslim-essence",
   "metadata": {
    "tags": [
     "hide-input"
    ]
   },
   "outputs": [],
   "source": [
    "def alap(P, n, maximize, reg, tol):\n",
    "    power = 1 if maximize else -1\n",
    "    lamb = reg / np.max(np.abs(P))\n",
    "    P = np.exp(lamb * power * P)\n",
    "\n",
    "    P_eps = _doubly_stochastic(P, tol)\n",
    "\n",
    "    return P_eps\n",
    "def _doubly_stochastic(P, tol=1e-3, max_iter=1000):\n",
    "    # Adapted from @btaba implementation\n",
    "    # https://github.com/btaba/sinkhorn_knopp\n",
    "    # of Sinkhorn-Knopp algorithm\n",
    "    # https://projecteuclid.org/euclid.pjm/1102992505\n",
    "\n",
    "    c = 1 / P.sum(axis=0)\n",
    "    r = 1 / (P @ c)\n",
    "    P_eps = P\n",
    "\n",
    "    for it in range(max_iter):\n",
    "        if it % 100 == 0:  # only check every so often to speed up\n",
    "            if (np.abs(P_eps.sum(axis=1) - 1) < tol).all() and (\n",
    "                np.abs(P_eps.sum(axis=0) - 1) < tol\n",
    "            ).all():\n",
    "                # All column/row sums ~= 1 within threshold\n",
    "                break\n",
    "\n",
    "        c = 1 / (r @ P)\n",
    "        r = 1 / (P @ c)\n",
    "        P_eps = r[:, None] * P * c\n",
    "    return P_eps"
   ]
  },
  {
   "cell_type": "code",
   "execution_count": 113,
   "id": "through-documentation",
   "metadata": {
    "tags": [
     "hide-input"
    ]
   },
   "outputs": [
    {
     "name": "stdout",
     "output_type": "stream",
     "text": [
      "cost:  172.00799999999998\n",
      "doubly stochastic matrix (rounding to three decimal points): \n",
      "[[0.998 0.002 0.    0.   ]\n",
      " [0.001 0.498 0.001 0.5  ]\n",
      " [0.001 0.498 0.001 0.5  ]\n",
      " [0.    0.002 0.998 0.   ]]\n",
      "average of other two optimal matrices: \n",
      "[[1.  0.  0.  0. ]\n",
      " [0.  0.5 0.  0.5]\n",
      " [0.  0.5 0.  0.5]\n",
      " [0.  0.  1.  0. ]]\n"
     ]
    }
   ],
   "source": [
    "Q = np.around(alap(A, 4, False, 400, 1e-3), 3)\n",
    "\n",
    "# print(Q.sum(axis=1))\n",
    "print(\"cost: \", np.trace(Q.T@A))\n",
    "print('doubly stochastic matrix (rounding to three decimal points): ')\n",
    "print(Q)\n",
    "print(\"average of other two optimal matrices: \")\n",
    "print((P1+P2)/2)"
   ]
  },
  {
   "cell_type": "code",
   "execution_count": null,
   "id": "cosmetic-hypothesis",
   "metadata": {
    "tags": [
     "hide-input"
    ]
   },
   "outputs": [],
   "source": []
  }
 ],
 "metadata": {
  "kernelspec": {
   "display_name": "Python 3",
   "language": "python",
   "name": "python3"
  },
  "language_info": {
   "codemirror_mode": {
    "name": "ipython",
    "version": 3
   },
   "file_extension": ".py",
   "mimetype": "text/x-python",
   "name": "python",
   "nbconvert_exporter": "python",
   "pygments_lexer": "ipython3",
   "version": "3.6.9"
  }
 },
 "nbformat": 4,
 "nbformat_minor": 5
}
