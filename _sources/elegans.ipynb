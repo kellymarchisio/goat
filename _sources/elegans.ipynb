{
 "cells": [
  {
   "cell_type": "markdown",
   "id": "authentic-stevens",
   "metadata": {
    "lines_to_next_cell": 0
   },
   "source": [
    "# Matching the C. elegans connectomes\n",
    "Here we compare performance on matching the C. elegans male and hermaphrodite\n",
    "chemical connectomes. The connectomes have been reduced to the intersection of their\n",
    "largest connected components prior to loading in, so they share the same node set."
   ]
  },
  {
   "cell_type": "code",
   "execution_count": 1,
   "id": "historic-emerald",
   "metadata": {
    "execution": {
     "iopub.execute_input": "2021-03-16T13:58:33.499334Z",
     "iopub.status.busy": "2021-03-16T13:58:33.498615Z",
     "iopub.status.idle": "2021-03-16T13:58:33.785169Z",
     "shell.execute_reply": "2021-03-16T13:58:33.784757Z"
    },
    "tags": [
     "hide-input"
    ]
   },
   "outputs": [],
   "source": [
    "import datetime\n",
    "import time\n",
    "\n",
    "import matplotlib.pyplot as plt\n",
    "import numpy as np\n",
    "import pandas as pd\n",
    "import seaborn as sns\n",
    "from scipy.optimize import quadratic_assignment\n",
    "\n",
    "from pkg.data import load_c_elegans\n",
    "from pkg.gmp import quadratic_assignment_ot\n",
    "from pkg.io import savefig\n",
    "\n",
    "t0 = time.time()\n",
    "\n",
    "\n",
    "def stashfig(name, **kwargs):\n",
    "    savefig(name, foldername=\"elegans\", print_out=False, **kwargs)"
   ]
  },
  {
   "cell_type": "markdown",
   "id": "corporate-imagination",
   "metadata": {},
   "source": [
    "## Load the data"
   ]
  },
  {
   "cell_type": "code",
   "execution_count": 2,
   "id": "welcome-distinction",
   "metadata": {
    "execution": {
     "iopub.execute_input": "2021-03-16T13:58:33.788139Z",
     "iopub.status.busy": "2021-03-16T13:58:33.787621Z",
     "iopub.status.idle": "2021-03-16T13:58:33.929214Z",
     "shell.execute_reply": "2021-03-16T13:58:33.929638Z"
    },
    "tags": [
     "hide-input"
    ]
   },
   "outputs": [],
   "source": [
    "male_adj, herm_adj, cell_names = load_c_elegans()"
   ]
  },
  {
   "cell_type": "markdown",
   "id": "naked-skiing",
   "metadata": {
    "lines_to_next_cell": 0
   },
   "source": [
    "## Run the graph matching experiment"
   ]
  },
  {
   "cell_type": "code",
   "execution_count": 3,
   "id": "loaded-navigation",
   "metadata": {
    "execution": {
     "iopub.execute_input": "2021-03-16T13:58:33.935728Z",
     "iopub.status.busy": "2021-03-16T13:58:33.935100Z",
     "iopub.status.idle": "2021-03-16T14:08:37.026018Z",
     "shell.execute_reply": "2021-03-16T14:08:37.026432Z"
    },
    "tags": [
     "hide-input"
    ]
   },
   "outputs": [
    {
     "name": "stdout",
     "output_type": "stream",
     "text": [
      "603.042 seconds elapsed.\n"
     ]
    },
    {
     "data": {
      "text/html": [
       "<div>\n",
       "<style scoped>\n",
       "    .dataframe tbody tr th:only-of-type {\n",
       "        vertical-align: middle;\n",
       "    }\n",
       "\n",
       "    .dataframe tbody tr th {\n",
       "        vertical-align: top;\n",
       "    }\n",
       "\n",
       "    .dataframe thead th {\n",
       "        text-align: right;\n",
       "    }\n",
       "</style>\n",
       "<table border=\"1\" class=\"dataframe\">\n",
       "  <thead>\n",
       "    <tr style=\"text-align: right;\">\n",
       "      <th></th>\n",
       "      <th>col_ind</th>\n",
       "      <th>fun</th>\n",
       "      <th>nit</th>\n",
       "      <th>match_ratio</th>\n",
       "      <th>method</th>\n",
       "      <th>reg</th>\n",
       "    </tr>\n",
       "  </thead>\n",
       "  <tbody>\n",
       "    <tr>\n",
       "      <th>0</th>\n",
       "      <td>[355, 354, 66, 3, 4, 62, 6, 7, 8, 9, 10, 11, 1...</td>\n",
       "      <td>466202.0</td>\n",
       "      <td>50</td>\n",
       "      <td>0.657277</td>\n",
       "      <td>vanilla</td>\n",
       "      <td>None</td>\n",
       "    </tr>\n",
       "    <tr>\n",
       "      <th>1</th>\n",
       "      <td>[289, 0, 275, 3, 281, 75, 10, 38, 8, 9, 285, 1...</td>\n",
       "      <td>413488.0</td>\n",
       "      <td>22</td>\n",
       "      <td>0.528169</td>\n",
       "      <td>goat</td>\n",
       "      <td>100</td>\n",
       "    </tr>\n",
       "    <tr>\n",
       "      <th>2</th>\n",
       "      <td>[42, 228, 2, 3, 4, 5, 6, 38, 8, 10, 285, 11, 1...</td>\n",
       "      <td>449849.0</td>\n",
       "      <td>42</td>\n",
       "      <td>0.591549</td>\n",
       "      <td>goat</td>\n",
       "      <td>300</td>\n",
       "    </tr>\n",
       "    <tr>\n",
       "      <th>3</th>\n",
       "      <td>[1, 163, 2, 3, 4, 267, 9, 38, 8, 10, 285, 12, ...</td>\n",
       "      <td>454419.0</td>\n",
       "      <td>31</td>\n",
       "      <td>0.586854</td>\n",
       "      <td>goat</td>\n",
       "      <td>500</td>\n",
       "    </tr>\n",
       "    <tr>\n",
       "      <th>4</th>\n",
       "      <td>[2, 163, 62, 3, 4, 75, 5, 38, 8, 10, 9, 12, 11...</td>\n",
       "      <td>469003.0</td>\n",
       "      <td>38</td>\n",
       "      <td>0.624413</td>\n",
       "      <td>goat</td>\n",
       "      <td>700</td>\n",
       "    </tr>\n",
       "  </tbody>\n",
       "</table>\n",
       "</div>"
      ],
      "text/plain": [
       "                                             col_ind       fun  nit  \\\n",
       "0  [355, 354, 66, 3, 4, 62, 6, 7, 8, 9, 10, 11, 1...  466202.0   50   \n",
       "1  [289, 0, 275, 3, 281, 75, 10, 38, 8, 9, 285, 1...  413488.0   22   \n",
       "2  [42, 228, 2, 3, 4, 5, 6, 38, 8, 10, 285, 11, 1...  449849.0   42   \n",
       "3  [1, 163, 2, 3, 4, 267, 9, 38, 8, 10, 285, 12, ...  454419.0   31   \n",
       "4  [2, 163, 62, 3, 4, 75, 5, 38, 8, 10, 9, 12, 11...  469003.0   38   \n",
       "\n",
       "   match_ratio   method   reg  \n",
       "0     0.657277  vanilla  None  \n",
       "1     0.528169     goat   100  \n",
       "2     0.591549     goat   300  \n",
       "3     0.586854     goat   500  \n",
       "4     0.624413     goat   700  "
      ]
     },
     "execution_count": 1,
     "metadata": {},
     "output_type": "execute_result"
    }
   ],
   "source": [
    "\n",
    "correct_inds = np.arange(len(herm_adj))\n",
    "\n",
    "\n",
    "def compute_match_ratio(inds, correct_inds):\n",
    "    matched = inds == correct_inds\n",
    "    return np.mean(matched)\n",
    "\n",
    "\n",
    "vanilla_options = dict(maximize=True, maxiter=150, tol=1e-5, shuffle_input=True)\n",
    "goat_options = dict(maximize=True, maxiter=150, tol=1e-5, shuffle_input=True)\n",
    "currtime = time.time()\n",
    "n_init = 50\n",
    "rows = []\n",
    "for i in range(n_init):\n",
    "    res = quadratic_assignment(male_adj, herm_adj, options=vanilla_options)\n",
    "    res[\"match_ratio\"] = compute_match_ratio(res[\"col_ind\"], correct_inds)\n",
    "    res[\"method\"] = \"vanilla\"\n",
    "    res[\"reg\"] = \"None\"\n",
    "    rows.append(res)\n",
    "    for reg in [100, 300, 500, 700]:  # above 700 usually breaks\n",
    "        goat_options[\"reg\"] = reg\n",
    "        res = quadratic_assignment_ot(male_adj, herm_adj, options=goat_options)\n",
    "        res[\"match_ratio\"] = compute_match_ratio(res[\"col_ind\"], correct_inds)\n",
    "        res[\"method\"] = \"goat\"\n",
    "        res[\"reg\"] = reg\n",
    "        rows.append(res)\n",
    "print(f\"{time.time() - currtime:.3f} seconds elapsed.\")\n",
    "results = pd.DataFrame(rows)\n",
    "results.head()"
   ]
  },
  {
   "cell_type": "markdown",
   "id": "pressing-jerusalem",
   "metadata": {
    "lines_to_next_cell": 0
   },
   "source": [
    "## Plot results"
   ]
  },
  {
   "cell_type": "code",
   "execution_count": 4,
   "id": "average-capital",
   "metadata": {
    "execution": {
     "iopub.execute_input": "2021-03-16T14:08:37.030201Z",
     "iopub.status.busy": "2021-03-16T14:08:37.029520Z",
     "iopub.status.idle": "2021-03-16T14:08:37.833337Z",
     "shell.execute_reply": "2021-03-16T14:08:37.833766Z"
    },
    "tags": [
     "hide-input"
    ]
   },
   "outputs": [
    {
     "data": {
      "image/png": "[encoded data removed]",
      "text/plain": [
       "<Figure size 576x432 with 1 Axes>"
      ]
     },
     "metadata": {
      "needs_background": "light"
     },
     "output_type": "display_data"
    }
   ],
   "source": [
    "sns.set_context(\"talk\")\n",
    "fig, ax = plt.subplots(1, 1, figsize=(8, 6))\n",
    "sns.scatterplot(data=results, x=\"fun\", y=\"match_ratio\", hue=\"reg\", ax=ax)\n",
    "stashfig(\"elegans-fun-vs-match\")"
   ]
  },
  {
   "cell_type": "markdown",
   "id": "amazing-capital",
   "metadata": {
    "lines_to_next_cell": 0
   },
   "source": [
    "## End"
   ]
  },
  {
   "cell_type": "code",
   "execution_count": 5,
   "id": "western-begin",
   "metadata": {
    "execution": {
     "iopub.execute_input": "2021-03-16T14:08:37.837435Z",
     "iopub.status.busy": "2021-03-16T14:08:37.836856Z",
     "iopub.status.idle": "2021-03-16T14:08:37.870225Z",
     "shell.execute_reply": "2021-03-16T14:08:37.870629Z"
    },
    "tags": [
     "hide-input"
    ]
   },
   "outputs": [
    {
     "name": "stdout",
     "output_type": "stream",
     "text": [
      "----\n",
      "Script took 0:10:04.088688\n",
      "Completed at 2021-03-16 10:08:37.867158\n",
      "----\n"
     ]
    }
   ],
   "source": [
    "elapsed = time.time() - t0\n",
    "delta = datetime.timedelta(seconds=elapsed)\n",
    "print(\"----\")\n",
    "print(f\"Script took {delta}\")\n",
    "print(f\"Completed at {datetime.datetime.now()}\")\n",
    "print(\"----\")"
   ]
  }
 ],
 "metadata": {
  "jupytext": {
   "cell_metadata_filter": "-all",
   "main_language": "python",
   "notebook_metadata_filter": "-all"
  },
  "language_info": {
   "codemirror_mode": {
    "name": "ipython",
    "version": 3
   },
   "file_extension": ".py",
   "mimetype": "text/x-python",
   "name": "python",
   "nbconvert_exporter": "python",
   "pygments_lexer": "ipython3",
   "version": "3.8.8"
  }
 },
 "nbformat": 4,
 "nbformat_minor": 5
}
