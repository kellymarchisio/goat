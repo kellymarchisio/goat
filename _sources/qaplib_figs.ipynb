{
 "cells": [
  {
   "cell_type": "markdown",
   "id": "juvenile-cycle",
   "metadata": {},
   "source": [
    "# QAPLIB Figures"
   ]
  },
  {
   "cell_type": "code",
   "execution_count": 1,
   "id": "confident-fleet",
   "metadata": {},
   "outputs": [],
   "source": [
    "%load_ext autoreload\n",
    "%autoreload 1"
   ]
  },
  {
   "cell_type": "code",
   "execution_count": 2,
   "id": "electoral-trash",
   "metadata": {},
   "outputs": [],
   "source": [
    "from pkg.gmp import quadratic_assignment\n",
    "from pkg.gmp import quadratic_assignment_ot\n",
    "import numpy as np"
   ]
  },
  {
   "cell_type": "code",
   "execution_count": 3,
   "id": "wrong-powell",
   "metadata": {},
   "outputs": [],
   "source": [
    "# hide\n",
    "import sys\n",
    "sys.path\n",
    "sys.path.insert(0,'../../graspologic')"
   ]
  },
  {
   "cell_type": "markdown",
   "id": "through-california",
   "metadata": {},
   "source": [
    "# QAPLIB Benchmark with barycenter init, random shuffle"
   ]
  },
  {
   "cell_type": "code",
   "execution_count": 4,
   "id": "historic-munich",
   "metadata": {},
   "outputs": [],
   "source": [
    "qapprob = [\"chr12c\",\"chr15a\",\"chr15c\",\"chr20b\",\"chr22b\",\"esc16b\",\n",
    "          \"rou12\",\"rou15\",\"rou20\",\"tai12a\",\"tai15a\",\"tai17a\",\"tai20a\",\n",
    "          \"tai30a\",\"tai35a\",\"tai40a\"]\n",
    "# qapprob = [\"lipa20a\", \"lipa20b\", \"lipa30a\", \"lipa30b\", \"lipa40a\", \"lipa40b\",\n",
    "#               \"lipa50a\", \"lipa50b\", \"lipa60a\", \"lipa60b\", \"lipa70a\", \"lipa70b\",\n",
    "#               \"lipa80a\", \"lipa90a\", \"lipa90b\"]\n",
    "# qapprob =[\"sko100a\", \"sko100b\", \"sko100c\", \"sko100d\", \"sko100e\", \"sko100f\",]\n",
    "n_qap = len(qapprob)\n",
    "slnfile = np.load(\"../data/qaplib/qap_sols.npz\",allow_pickle=True)\n",
    "datafile = np.load(\"../data/qaplib/qap_probs.npz\",allow_pickle=True)\n",
    "n_qap = len(qapprob)\n",
    "\n",
    "gm_scores = np.zeros(n_qap)\n",
    "gmot_scores = np.zeros(n_qap)\n",
    "\n",
    "for i in range(n_qap):\n",
    "\n",
    "    A = datafile[qapprob[i]][0]\n",
    "    B = datafile[qapprob[i]][1]\n",
    "    n = A.shape[0]\n",
    "\n",
    "    res = quadratic_assignment(A,B,options={'tol':1e-9,'maxiter':100, 'shuffle_input':True})          \n",
    "    gm_scores[i] = res.fun\n",
    "    \n",
    "    res = quadratic_assignment_ot(A,B,options={'tol':1e-9,'maxiter':100, 'shuffle_input':True, 'reg': 100, 'thr':1e-2})       \n",
    "    gmot_scores[i] = res.fun"
   ]
  },
  {
   "cell_type": "code",
   "execution_count": 5,
   "id": "guilty-diagram",
   "metadata": {},
   "outputs": [
    {
     "name": "stdout",
     "output_type": "stream",
     "text": [
      "       QAP      OPT       GM    GM_OT\n",
      "0   chr12c    11156    13072    12850\n",
      "1   chr15a     9896    16398    14840\n",
      "2   chr15c     9504    19206    16284\n",
      "3   chr20b     2298     2986     3422\n",
      "4   chr22b     6194     8420     7482\n",
      "5   esc16b      292      320      316\n",
      "6    rou12   235528   253420   243392\n",
      "7    rou15   354210   369342   370696\n",
      "8    rou20   725522   743884   742606\n",
      "9   tai12a   224416   244672   224416\n",
      "10  tai15a   388214   397376   402248\n",
      "11  tai17a   491812   509656   499528\n",
      "12  tai20a   703482   734276   771754\n",
      "13  tai30a  1818146  1880064  1869814\n",
      "14  tai35a  2422002  2460940  2498962\n",
      "15  tai40a  3139370  3227612  3180126\n"
     ]
    }
   ],
   "source": [
    "import pandas as pd\n",
    "opt = [slnfile[i] for i in qapprob]\n",
    "mat = np.zeros((n_qap,3))\n",
    "mat[:,0] = opt\n",
    "mat[:,1] = gm_scores\n",
    "mat[:,2] = gmot_scores\n",
    "mat = mat.astype(int)\n",
    "df = pd.DataFrame(mat,columns=[\"OPT\",\"GM\", 'GM_OT'])\n",
    "df.insert(0,\"QAP\",qapprob,True)\n",
    "print(df)"
   ]
  },
  {
   "cell_type": "markdown",
   "id": "mexican-amino",
   "metadata": {},
   "source": [
    "# QAPLIB with Random Inits"
   ]
  },
  {
   "cell_type": "code",
   "execution_count": 6,
   "id": "spread-macedonia",
   "metadata": {},
   "outputs": [],
   "source": [
    "qapprob = [\"chr12c\",\"chr15a\",\"chr15c\",\"chr20b\",\"chr22b\",\"esc16b\",\n",
    "          \"rou12\",\"rou15\",\"rou20\",\"tai12a\",\"tai15a\",\"tai17a\",\"tai20a\",\n",
    "          \"tai30a\",\"tai35a\",\"tai40a\"]\n",
    "# qapprob = [\"lipa20a\", \"lipa20b\", \"lipa30a\", \"lipa30b\", \"lipa40a\", \"lipa40b\",\n",
    "#               \"lipa50a\", \"lipa50b\", \"lipa60a\", \"lipa60b\", \"lipa70a\", \"lipa70b\",\n",
    "#               \"lipa80a\", \"lipa90a\", \"lipa90b\"]\n",
    "# qapprob =[\"sko100a\", \"sko100b\", \"sko100c\", \"sko100d\", \"sko100e\", \"sko100f\",]\n",
    "n_qap = len(qapprob)\n",
    "n_qap = len(qapprob)\n",
    "bari_scores = np.zeros(n_qap)\n",
    "no_shuffle = np.zeros(n_qap)\n",
    "den = 1 #controls number of barycenter inits\n",
    "for i in range(n_qap):\n",
    "    b_min = np.zeros(den)\n",
    "    for k in range(den):\n",
    "        A = datafile[qapprob[i]][0]\n",
    "        B = datafile[qapprob[i]][1]\n",
    "        n = A.shape[0]\n",
    "\n",
    "        res = min([quadratic_assignment(A,B,options={'tol':1e-6,'maxiter':100,'P0':'randomized'})\n",
    "                   for i in range(30)], key=lambda x: x.fun)\n",
    "                                   #options={'rng':i+k} )\n",
    "        b_min[k] = res.fun\n",
    "        res = min([quadratic_assignment_ot(A,B, options={'tol':1e-6,'maxiter': 100, 'P0': 'randomized'})\n",
    "                   for i in range(30)], key=lambda x: x.fun)\n",
    "        \n",
    "    bari_scores[i] = min(b_min)\n",
    "    no_shuffle[i] = res.fun"
   ]
  },
  {
   "cell_type": "code",
   "execution_count": 7,
   "id": "missing-fiction",
   "metadata": {},
   "outputs": [
    {
     "name": "stdout",
     "output_type": "stream",
     "text": [
      "       QAP      OPT       GM    GM_OT\n",
      "0   chr12c    11156    12910    11566\n",
      "1   chr15a     9896    12596    10632\n",
      "2   chr15c     9504    12682    12324\n",
      "3   chr20b     2298     2884     2702\n",
      "4   chr22b     6194     7468     7060\n",
      "5   esc16b      292      292      292\n",
      "6    rou12   235528   235528   238134\n",
      "7    rou15   354210   354210   359748\n",
      "8    rou20   725522   728724   731916\n",
      "9   tai12a   224416   224416   224416\n",
      "10  tai15a   388214   392712   392712\n",
      "11  tai17a   491812   501016   496598\n",
      "12  tai20a   703482   710350   705622\n",
      "13  tai30a  1818146  1850676  1828454\n",
      "14  tai35a  2422002  2461826  2431498\n",
      "15  tai40a  3139370  3186970  3179110\n"
     ]
    }
   ],
   "source": [
    "import pandas as pd\n",
    "opt = [slnfile[i] for i in qapprob]\n",
    "mat = np.zeros((n_qap,3))\n",
    "mat[:,0] = opt\n",
    "mat[:,1] = bari_scores\n",
    "mat[:,2] = no_shuffle\n",
    "mat = mat.astype(int)\n",
    "df = pd.DataFrame(mat,columns=[\"OPT\",\"GM\", 'GM_OT'])\n",
    "df.insert(0,\"QAP\",qapprob,True)\n",
    "print(df)"
   ]
  },
  {
   "cell_type": "markdown",
   "id": "fundamental-concert",
   "metadata": {},
   "source": [
    "# Recreate fig 4 from FAQ Paper"
   ]
  },
  {
   "cell_type": "code",
   "execution_count": 11,
   "id": "incorporate-winner",
   "metadata": {},
   "outputs": [],
   "source": [
    "from os import listdir\n",
    "from os.path import isfile, join\n",
    "\n",
    "qapprob = [\"bur26a\", \"bur26b\", \"bur26c\", \"bur26d\", \"bur26e\", \"bur26f\",\n",
    "              \"bur26g\", \"bur26h\", \"chr12a\", \"chr12b\", \"chr12c\", \"chr15a\",\n",
    "              \"chr15b\", \"chr15c\", \"chr18a\", \"chr18b\", \"chr20a\", \"chr20b\",\n",
    "              \"chr20c\", \"chr22a\", \"chr22b\", \"chr25a\",\n",
    "              \"els19\",\n",
    "              \"esc16a\", \"esc16b\", \"esc16c\", \"esc16d\", \"esc16e\", \"esc16g\",\n",
    "              \"esc16h\", \"esc16i\", \"esc16j\", \"esc32e\", \"esc32g\", \"esc128\",\n",
    "              \"had12\", \"had14\", \"had16\", \"had18\", \"had20\", \"kra30a\",\n",
    "              \"kra30b\", \"kra32\",\n",
    "              \"lipa20a\", \"lipa20b\", \"lipa30a\", \"lipa30b\", \"lipa40a\", \"lipa40b\",\n",
    "              \"lipa50a\", \"lipa50b\", \"lipa60a\", \"lipa60b\", \"lipa70a\", \"lipa70b\",\n",
    "              \"lipa80a\", \"lipa90a\", \"lipa90b\",\n",
    "              \"nug12\", \"nug14\", \"nug16a\", \"nug16b\", \"nug17\", \"nug18\", \"nug20\",\n",
    "              \"nug21\", \"nug22\", \"nug24\", \"nug25\", \"nug27\", \"nug28\", \"nug30\",\n",
    "              \"rou12\", \"rou15\", \"rou20\",\n",
    "              \"scr12\", \"scr15\", \"scr20\",\n",
    "              \"sko42\", \"sko49\", \"sko56\", \"sko64\", \"sko72\", \"sko81\", \"sko90\",\n",
    "              \"sko100a\", \"sko100b\", \"sko100c\", \"sko100d\", \"sko100e\", \"sko100f\",\n",
    "              \"ste36b\", \"ste36c\",\n",
    "              \"tai12a\", \"tai12b\", \"tai15a\", \"tai15b\", \"tai17a\", \"tai20a\",\n",
    "              \"tai20b\", \"tai25a\", \"tai25b\", \"tai30a\", \"tai30b\", \"tai35a\",\n",
    "              \"tai40a\", \"tai40b\", \"tai50a\", \"tai50b\", \"tai60a\", \"tai60b\",\n",
    "              \"tai64c\", \"tai80a\", \"tai100a\", \"tai100b\", \"tai150b\", \"tai256c\",\n",
    "              \"tho30\", \"tho40\", \"tho150\", \"wil50\", \"wil100\"]\n",
    "\n",
    "n_qap = len(qapprob)\n",
    "\n",
    "sizes = np.zeros(n_qap)\n",
    "logofv = np.zeros(n_qap)\n",
    "for i in range(n_qap):\n",
    "\n",
    "    A = datafile[qapprob[i]][0]\n",
    "    B = datafile[qapprob[i]][1]\n",
    "    n = A.shape[0]\n",
    "    sizes[i] = n\n",
    "\n",
    "    res = quadratic_assignment(A,B,options={'tol':1e-9,'maxiter':100, 'shuffle_input':True})          \n",
    "    gm_score = res.fun\n",
    "    \n",
    "    res = quadratic_assignment_ot(A,B,options={'tol':1e-9,'maxiter':100, 'shuffle_input':True, 'reg': 100, 'thr':1e-2})       \n",
    "    logofv[i] = np.log(res.fun/gm_score)\n",
    "    "
   ]
  },
  {
   "cell_type": "code",
   "execution_count": 10,
   "id": "sharp-large",
   "metadata": {},
   "outputs": [
    {
     "name": "stdout",
     "output_type": "stream",
     "text": [
      "0.39344262295081966\n"
     ]
    },
    {
     "data": {
      "image/png": "[encoded data removed]",
      "text/plain": [
       "<Figure size 504x720 with 1 Axes>"
      ]
     },
     "metadata": {},
     "output_type": "display_data"
    }
   ],
   "source": [
    "import matplotlib.pyplot as plt\n",
    "import seaborn as sns\n",
    "sns.set_context('poster')\n",
    "sns.set(rc={'figure.figsize':(7,10)})\n",
    "plt.scatter(sizes,logofv)\n",
    "plt.xlabel('# of vertices')\n",
    "plt.ylabel('log relative ofv')\n"
   ]
  },
  {
   "cell_type": "code",
   "execution_count": 12,
   "id": "advanced-castle",
   "metadata": {},
   "outputs": [
    {
     "name": "stdout",
     "output_type": "stream",
     "text": [
      "percent better = 0.319672131147541\n"
     ]
    }
   ],
   "source": [
    "print(f'percent better = {np.sum(logofv < 0)/n_qap}')"
   ]
  },
  {
   "cell_type": "code",
   "execution_count": null,
   "id": "framed-nicaragua",
   "metadata": {},
   "outputs": [],
   "source": []
  }
 ],
 "metadata": {
  "kernelspec": {
   "display_name": "Python 3",
   "language": "python",
   "name": "python3"
  },
  "language_info": {
   "codemirror_mode": {
    "name": "ipython",
    "version": 3
   },
   "file_extension": ".py",
   "mimetype": "text/x-python",
   "name": "python",
   "nbconvert_exporter": "python",
   "pygments_lexer": "ipython3",
   "version": "3.6.9"
  }
 },
 "nbformat": 4,
 "nbformat_minor": 5
}
